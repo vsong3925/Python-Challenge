{
 "cells": [
  {
   "cell_type": "code",
   "execution_count": 91,
   "metadata": {},
   "outputs": [],
   "source": [
    "import os\n",
    "import csv"
   ]
  },
  {
   "cell_type": "code",
   "execution_count": 92,
   "metadata": {},
   "outputs": [],
   "source": [
    "# Define the function and have it accept the 'wrestlerData' as its sole parameter\n",
    "def percentage(wrestlerdata):\n",
    "    name = str(wrestlerdata[0])\n",
    "    wins = int(wrestlerdata[1])\n",
    "    losses = int(wrestlerdata[2])\n",
    "    draws = int(wrestlerdata[3])\n",
    "    total_matches = wins + losses + draws\n",
    "    \n",
    "    # percentage\n",
    "    percentage_of_wins = int((wins / total_matches) * 100)\n",
    "    percentage_of_losses = int((losses / total_matches) * 100)\n",
    "    percentage_of_draws = int((draws / total_matches) * 100)\n",
    "    \n",
    "    # conditions for wrestling status\n",
    "    if percentage_of_losses >= 50:\n",
    "        status = \"Jobber\"\n",
    "    else:\n",
    "        status = \"Superstar\"\n",
    "    \n",
    "    # print\n",
    "    print(f'{name_to_check}')\n",
    "    print(f'Percentage of matches won: {percentage_of_wins}')\n",
    "    print(f'Percentage of matches lost: {percentage_of_losses}')\n",
    "    print(f'Percentage of matches drew: {percentage_of_draws}')  \n",
    "    print(f'Wrestling Status: {status}')"
   ]
  },
  {
   "cell_type": "code",
   "execution_count": 93,
   "metadata": {},
   "outputs": [],
   "source": [
    "# Path to collect data from the Resources folder\n",
    "wrestling_csv_path = '/Users/verasong/Python-Challenge/Week 2/Mini Assignment/Resources/WWE-Data-2016.csv'"
   ]
  },
  {
   "cell_type": "code",
   "execution_count": 94,
   "metadata": {},
   "outputs": [
    {
     "name": "stdout",
     "output_type": "stream",
     "text": [
      "What wrestler do you want to look for? The Miz\n",
      "The Miz\n",
      "Percentage of matches won: 29\n",
      "Percentage of matches lost: 70\n",
      "Percentage of matches drew: 0\n",
      "Wrestling Status: Jobber\n",
      "None\n"
     ]
    }
   ],
   "source": [
    "# Read in the CSV file\n",
    "with open(wrestling_csv_path, 'r') as csvfile:\n",
    "\n",
    "    # Split the data on commas\n",
    "    csvreader = csv.reader(csvfile, delimiter=',')\n",
    "    headers = next(csvreader, None)\n",
    "\n",
    "    # Prompt the user for what wrestler they would like to search for\n",
    "    name_to_check = input(\"What wrestler do you want to look for? \")\n",
    "    \n",
    "    # Call function\n",
    "    for wrestler in csvreader:\n",
    "        if name_to_check == wrestler[0]:\n",
    "            print(percentage(wrestler))"
   ]
  },
  {
   "cell_type": "code",
   "execution_count": null,
   "metadata": {},
   "outputs": [],
   "source": []
  }
 ],
 "metadata": {
  "kernelspec": {
   "display_name": "Python 3",
   "language": "python",
   "name": "python3"
  },
  "language_info": {
   "codemirror_mode": {
    "name": "ipython",
    "version": 3
   },
   "file_extension": ".py",
   "mimetype": "text/x-python",
   "name": "python",
   "nbconvert_exporter": "python",
   "pygments_lexer": "ipython3",
   "version": "3.8.3"
  }
 },
 "nbformat": 4,
 "nbformat_minor": 2
}
